{
 "cells": [
  {
   "cell_type": "code",
   "execution_count": 3,
   "id": "2d0f456e",
   "metadata": {},
   "outputs": [],
   "source": [
    "import numpy as np\n",
    "import matplotlib.pyplot as plt\n",
    "import pandas as pd\n",
    "import seaborn as sns\n",
    "import warnings\n",
    "from scipy.stats import f_oneway\n",
    "warnings.filterwarnings('ignore')"
   ]
  },
  {
   "cell_type": "code",
   "execution_count": 4,
   "id": "b12594c1",
   "metadata": {},
   "outputs": [],
   "source": [
    "insurance = pd.read_csv('C:\\\\Users\\salig\\OneDrive\\Documents\\DeGuzman_INSURANCE ACTIVITY\\insurance - insurance.csv')"
   ]
  },
  {
   "cell_type": "code",
   "execution_count": 5,
   "id": "25d3d4e9",
   "metadata": {},
   "outputs": [
    {
     "data": {
      "text/html": [
       "<div>\n",
       "<style scoped>\n",
       "    .dataframe tbody tr th:only-of-type {\n",
       "        vertical-align: middle;\n",
       "    }\n",
       "\n",
       "    .dataframe tbody tr th {\n",
       "        vertical-align: top;\n",
       "    }\n",
       "\n",
       "    .dataframe thead th {\n",
       "        text-align: right;\n",
       "    }\n",
       "</style>\n",
       "<table border=\"1\" class=\"dataframe\">\n",
       "  <thead>\n",
       "    <tr style=\"text-align: right;\">\n",
       "      <th></th>\n",
       "      <th>age</th>\n",
       "      <th>sex</th>\n",
       "      <th>bmi</th>\n",
       "      <th>children</th>\n",
       "      <th>smoker</th>\n",
       "      <th>region</th>\n",
       "      <th>charges</th>\n",
       "    </tr>\n",
       "  </thead>\n",
       "  <tbody>\n",
       "    <tr>\n",
       "      <th>0</th>\n",
       "      <td>19</td>\n",
       "      <td>female</td>\n",
       "      <td>27.900</td>\n",
       "      <td>0</td>\n",
       "      <td>yes</td>\n",
       "      <td>southwest</td>\n",
       "      <td>16884.92400</td>\n",
       "    </tr>\n",
       "    <tr>\n",
       "      <th>1</th>\n",
       "      <td>18</td>\n",
       "      <td>male</td>\n",
       "      <td>33.770</td>\n",
       "      <td>1</td>\n",
       "      <td>no</td>\n",
       "      <td>southeast</td>\n",
       "      <td>1725.55230</td>\n",
       "    </tr>\n",
       "    <tr>\n",
       "      <th>2</th>\n",
       "      <td>28</td>\n",
       "      <td>male</td>\n",
       "      <td>33.000</td>\n",
       "      <td>3</td>\n",
       "      <td>no</td>\n",
       "      <td>southeast</td>\n",
       "      <td>4449.46200</td>\n",
       "    </tr>\n",
       "    <tr>\n",
       "      <th>3</th>\n",
       "      <td>33</td>\n",
       "      <td>male</td>\n",
       "      <td>22.705</td>\n",
       "      <td>0</td>\n",
       "      <td>no</td>\n",
       "      <td>northwest</td>\n",
       "      <td>21984.47061</td>\n",
       "    </tr>\n",
       "    <tr>\n",
       "      <th>4</th>\n",
       "      <td>32</td>\n",
       "      <td>male</td>\n",
       "      <td>28.880</td>\n",
       "      <td>0</td>\n",
       "      <td>no</td>\n",
       "      <td>northwest</td>\n",
       "      <td>3866.85520</td>\n",
       "    </tr>\n",
       "    <tr>\n",
       "      <th>...</th>\n",
       "      <td>...</td>\n",
       "      <td>...</td>\n",
       "      <td>...</td>\n",
       "      <td>...</td>\n",
       "      <td>...</td>\n",
       "      <td>...</td>\n",
       "      <td>...</td>\n",
       "    </tr>\n",
       "    <tr>\n",
       "      <th>1333</th>\n",
       "      <td>50</td>\n",
       "      <td>male</td>\n",
       "      <td>30.970</td>\n",
       "      <td>3</td>\n",
       "      <td>no</td>\n",
       "      <td>northwest</td>\n",
       "      <td>10600.54830</td>\n",
       "    </tr>\n",
       "    <tr>\n",
       "      <th>1334</th>\n",
       "      <td>18</td>\n",
       "      <td>female</td>\n",
       "      <td>31.920</td>\n",
       "      <td>0</td>\n",
       "      <td>no</td>\n",
       "      <td>northeast</td>\n",
       "      <td>2205.98080</td>\n",
       "    </tr>\n",
       "    <tr>\n",
       "      <th>1335</th>\n",
       "      <td>18</td>\n",
       "      <td>female</td>\n",
       "      <td>36.850</td>\n",
       "      <td>0</td>\n",
       "      <td>no</td>\n",
       "      <td>southeast</td>\n",
       "      <td>1629.83350</td>\n",
       "    </tr>\n",
       "    <tr>\n",
       "      <th>1336</th>\n",
       "      <td>21</td>\n",
       "      <td>female</td>\n",
       "      <td>25.800</td>\n",
       "      <td>0</td>\n",
       "      <td>no</td>\n",
       "      <td>southwest</td>\n",
       "      <td>2007.94500</td>\n",
       "    </tr>\n",
       "    <tr>\n",
       "      <th>1337</th>\n",
       "      <td>61</td>\n",
       "      <td>female</td>\n",
       "      <td>29.070</td>\n",
       "      <td>0</td>\n",
       "      <td>yes</td>\n",
       "      <td>northwest</td>\n",
       "      <td>29141.36030</td>\n",
       "    </tr>\n",
       "  </tbody>\n",
       "</table>\n",
       "<p>1338 rows × 7 columns</p>\n",
       "</div>"
      ],
      "text/plain": [
       "      age     sex     bmi  children smoker     region      charges\n",
       "0      19  female  27.900         0    yes  southwest  16884.92400\n",
       "1      18    male  33.770         1     no  southeast   1725.55230\n",
       "2      28    male  33.000         3     no  southeast   4449.46200\n",
       "3      33    male  22.705         0     no  northwest  21984.47061\n",
       "4      32    male  28.880         0     no  northwest   3866.85520\n",
       "...   ...     ...     ...       ...    ...        ...          ...\n",
       "1333   50    male  30.970         3     no  northwest  10600.54830\n",
       "1334   18  female  31.920         0     no  northeast   2205.98080\n",
       "1335   18  female  36.850         0     no  southeast   1629.83350\n",
       "1336   21  female  25.800         0     no  southwest   2007.94500\n",
       "1337   61  female  29.070         0    yes  northwest  29141.36030\n",
       "\n",
       "[1338 rows x 7 columns]"
      ]
     },
     "execution_count": 5,
     "metadata": {},
     "output_type": "execute_result"
    }
   ],
   "source": [
    "insurance"
   ]
  },
  {
   "cell_type": "code",
   "execution_count": 17,
   "id": "990d3092",
   "metadata": {},
   "outputs": [
    {
     "data": {
      "text/plain": [
       "Index(['age', 'sex', 'bmi', 'children', 'smoker', 'region', 'charges'], dtype='object')"
      ]
     },
     "execution_count": 17,
     "metadata": {},
     "output_type": "execute_result"
    }
   ],
   "source": [
    "insurance.columns"
   ]
  },
  {
   "cell_type": "markdown",
   "id": "06c4ae74",
   "metadata": {},
   "source": [
    "# DISTRIBUTION\n"
   ]
  },
  {
   "cell_type": "code",
   "execution_count": 6,
   "id": "2cf2228b",
   "metadata": {},
   "outputs": [],
   "source": [
    "sex_dist = insurance[\"sex\"].value_counts(normalize=True) *100"
   ]
  },
  {
   "cell_type": "code",
   "execution_count": 8,
   "id": "0643391c",
   "metadata": {},
   "outputs": [
    {
     "data": {
      "text/plain": [
       "male      50.523169\n",
       "female    49.476831\n",
       "Name: sex, dtype: float64"
      ]
     },
     "execution_count": 8,
     "metadata": {},
     "output_type": "execute_result"
    }
   ],
   "source": [
    "sex_dist"
   ]
  },
  {
   "cell_type": "code",
   "execution_count": 9,
   "id": "ae1b114d",
   "metadata": {},
   "outputs": [],
   "source": [
    "bmi_dist = insurance[\"bmi\"].value_counts(normalize=True) *100"
   ]
  },
  {
   "cell_type": "code",
   "execution_count": 10,
   "id": "b30f09f4",
   "metadata": {},
   "outputs": [
    {
     "data": {
      "text/plain": [
       "32.300    0.971599\n",
       "28.310    0.672646\n",
       "30.495    0.597907\n",
       "30.875    0.597907\n",
       "31.350    0.597907\n",
       "            ...   \n",
       "46.200    0.074738\n",
       "23.800    0.074738\n",
       "44.770    0.074738\n",
       "32.120    0.074738\n",
       "30.970    0.074738\n",
       "Name: bmi, Length: 548, dtype: float64"
      ]
     },
     "execution_count": 10,
     "metadata": {},
     "output_type": "execute_result"
    }
   ],
   "source": [
    "bmi_dist"
   ]
  },
  {
   "cell_type": "markdown",
   "id": "e7721d43",
   "metadata": {},
   "source": [
    "# AVERAGE BMI BASED ON SEX"
   ]
  },
  {
   "cell_type": "code",
   "execution_count": 11,
   "id": "4fa37979",
   "metadata": {},
   "outputs": [
    {
     "data": {
      "image/png": "[encoded data removed]",
      "text/plain": [
       "<Figure size 432x288 with 1 Axes>"
      ]
     },
     "metadata": {
      "needs_background": "light"
     },
     "output_type": "display_data"
    }
   ],
   "source": [
    "visual1 = sns.barplot(data = insurance, x=\"sex\", y=\"bmi\")"
   ]
  },
  {
   "cell_type": "code",
   "execution_count": 12,
   "id": "3bd344b5",
   "metadata": {},
   "outputs": [
    {
     "data": {
      "text/plain": [
       "1       33.770\n",
       "2       33.000\n",
       "3       22.705\n",
       "4       28.880\n",
       "8       29.830\n",
       "         ...  \n",
       "1324    25.935\n",
       "1325    33.535\n",
       "1327    30.030\n",
       "1329    38.600\n",
       "1333    30.970\n",
       "Name: bmi, Length: 676, dtype: float64"
      ]
     },
     "execution_count": 12,
     "metadata": {},
     "output_type": "execute_result"
    }
   ],
   "source": [
    "insurance[insurance[\"sex\"]==\"male\"][\"bmi\"]"
   ]
  },
  {
   "cell_type": "code",
   "execution_count": 13,
   "id": "7d994c05",
   "metadata": {},
   "outputs": [],
   "source": [
    "first, p_value = f_oneway(insurance[insurance[\"sex\"]==\"male\"][\"bmi\"],insurance[insurance[\"sex\"]==\"female\"][\"bmi\"])"
   ]
  },
  {
   "cell_type": "code",
   "execution_count": 14,
   "id": "35bd485b",
   "metadata": {},
   "outputs": [
    {
     "data": {
      "image/png": "[encoded data removed]",
      "text/plain": [
       "<Figure size 432x288 with 1 Axes>"
      ]
     },
     "metadata": {
      "needs_background": "light"
     },
     "output_type": "display_data"
    }
   ],
   "source": [
    "visual2 = sns.barplot(data=insurance, x=\"sex\", y=\"children\")"
   ]
  },
  {
   "cell_type": "code",
   "execution_count": 15,
   "id": "2b175498",
   "metadata": {},
   "outputs": [
    {
     "data": {
      "text/plain": [
       "0       27.90\n",
       "5       25.74\n",
       "6       33.44\n",
       "7       27.74\n",
       "9       25.84\n",
       "        ...  \n",
       "1332    44.70\n",
       "1334    31.92\n",
       "1335    36.85\n",
       "1336    25.80\n",
       "1337    29.07\n",
       "Name: bmi, Length: 662, dtype: float64"
      ]
     },
     "execution_count": 15,
     "metadata": {},
     "output_type": "execute_result"
    }
   ],
   "source": [
    "insurance[insurance[\"sex\"]==\"female\"][\"bmi\"]"
   ]
  },
  {
   "cell_type": "code",
   "execution_count": 16,
   "id": "dbc3c871",
   "metadata": {},
   "outputs": [],
   "source": [
    "first, p_value2 = f_oneway(insurance[insurance[\"sex\"]==\"male\"][\"bmi\"],insurance[insurance[\"sex\"]==\"female\"][\"bmi\"])"
   ]
  },
  {
   "cell_type": "markdown",
   "id": "208dd086",
   "metadata": {},
   "source": [
    "# WHAT SEX IS OFTEN WHO SMOKE CIGARETTES AND GOT INSURANCE CHARGES?\n"
   ]
  },
  {
   "cell_type": "code",
   "execution_count": 23,
   "id": "807a9ddb",
   "metadata": {},
   "outputs": [
    {
     "data": {
      "image/png": "[encoded data removed]",
      "text/plain": [
       "<Figure size 432x288 with 1 Axes>"
      ]
     },
     "metadata": {
      "needs_background": "light"
     },
     "output_type": "display_data"
    }
   ],
   "source": [
    "gsurance = sns.barplot(data = insurance, x = \"sex\", y = \"charges\", palette='coolwarm')"
   ]
  },
  {
   "cell_type": "markdown",
   "id": "7ecf499a",
   "metadata": {},
   "source": [
    "# ARE THE CHARGES OF INSURANCE  HAS A CORRELATION TO SEX, WHEN IT REGARDS TO SMOKING CIGARETTES?"
   ]
  },
  {
   "cell_type": "code",
   "execution_count": 24,
   "id": "41dc1235",
   "metadata": {},
   "outputs": [],
   "source": [
    "first, p_value = f_oneway(insurance[insurance[\"sex\"]==\"male\"][\"charges\"],insurance[insurance[\"sex\"]==\"female\"][\"charges\"])"
   ]
  },
  {
   "cell_type": "code",
   "execution_count": 25,
   "id": "ac1a65e2",
   "metadata": {},
   "outputs": [
    {
     "name": "stdout",
     "output_type": "stream",
     "text": [
      "0.03613272100596256\n",
      "Sex doesn't have a correlation to the insurance charges\n"
     ]
    }
   ],
   "source": [
    "print(p_value)\n",
    "\n",
    "if p_value >= 0.5:\n",
    "    print(\"Sex does have a correlation to the insurance charges\")\n",
    "else:\n",
    "    print(\"Sex doesn't have a correlation to the insurance charges\")"
   ]
  },
  {
   "cell_type": "markdown",
   "id": "8d93665d",
   "metadata": {},
   "source": [
    "# WHAT SEX IS OFTEN WHO SMOKE CIGARETTES?"
   ]
  },
  {
   "cell_type": "code",
   "execution_count": 26,
   "id": "dfaf9ffa",
   "metadata": {},
   "outputs": [
    {
     "name": "stdout",
     "output_type": "stream",
     "text": [
      "The sex that smokes the most is: male\n",
      "With a total count of: 676\n"
     ]
    }
   ],
   "source": [
    "sex_tots = insurance['sex'].value_counts()\n",
    "most_smoker = sex_tots.idxmax()\n",
    "num_of_smoker = sex_tots.max()\n",
    "\n",
    "print(\"The sex that smokes the most is:\", most_smoker)\n",
    "print(\"With a total count of:\", num_of_smoker)"
   ]
  },
  {
   "cell_type": "markdown",
   "id": "1e49ef98",
   "metadata": {},
   "source": [
    "# HAS THE MOST NUMBER OF CHILDREN AND IN WHAT REGION CAME FROM?"
   ]
  },
  {
   "cell_type": "code",
   "execution_count": 28,
   "id": "9f383b3b",
   "metadata": {},
   "outputs": [
    {
     "data": {
      "image/png": "[encoded data removed]",
      "text/plain": [
       "<Figure size 432x288 with 1 Axes>"
      ]
     },
     "metadata": {
      "needs_background": "light"
     },
     "output_type": "display_data"
    }
   ],
   "source": [
    "Cregion = sns.barplot(data = insurance, x = \"region\", y =\"children\", color = \"skyblue\")\n",
    "plt.show()"
   ]
  },
  {
   "cell_type": "markdown",
   "id": "c1dcf702",
   "metadata": {},
   "source": [
    "# WHEN IT COMES TO AGE, IS YOUNGER PEOPLE/AGE ARE STILL PAYING INSURANCE FOR THEIR FUTURE HOLDS?"
   ]
  },
  {
   "cell_type": "code",
   "execution_count": 30,
   "id": "6ed8238d",
   "metadata": {},
   "outputs": [
    {
     "name": "stdout",
     "output_type": "stream",
     "text": [
      "The youngest insurance payer: 64.0 years old\n"
     ]
    }
   ],
   "source": [
    "young = insurance.groupby(\"charges\")[\"age\"].mean().reset_index()\n",
    "\n",
    "youngest = young.sort_values(by=\"age\", ascending=False).iloc[0]\n",
    "print(\"The youngest insurance payer:\", youngest[\"age\"], \"years old\")\n"
   ]
  },
  {
   "cell_type": "markdown",
   "id": "c2a8a22a",
   "metadata": {},
   "source": [
    "# HAS THE MOST OBESITY WHEN IT CAME FROM? FROM WHAT REGION IS IT?"
   ]
  },
  {
   "cell_type": "code",
   "execution_count": 37,
   "id": "3d962bfc",
   "metadata": {},
   "outputs": [
    {
     "data": {
      "image/png": "[encoded data removed]",
      "text/plain": [
       "<Figure size 432x288 with 1 Axes>"
      ]
     },
     "metadata": {
      "needs_background": "light"
     },
     "output_type": "display_data"
    }
   ],
   "source": [
    "Rbmi= sns.barplot(data = insurance, x = \"bmi\", y = \"region\",palette='pink')"
   ]
  },
  {
   "cell_type": "markdown",
   "id": "e3152509",
   "metadata": {},
   "source": [
    "# DOES SMOKER AND AGE HAS A CORRELATION? AND WHAT AGES IS IT?"
   ]
  },
  {
   "cell_type": "code",
   "execution_count": 33,
   "id": "7b4df89c",
   "metadata": {},
   "outputs": [],
   "source": [
    "first, p_value1 = f_oneway(insurance[insurance[\"smoker\"]==\"yes\"][\"age\"],insurance[insurance[\"smoker\"]==\"no\"][\"age\"])"
   ]
  },
  {
   "cell_type": "code",
   "execution_count": 34,
   "id": "e6f91fa1",
   "metadata": {},
   "outputs": [
    {
     "name": "stdout",
     "output_type": "stream",
     "text": [
      "0.36048529037786103\n",
      "Being smoker doesn't have a correlation to the age\n"
     ]
    }
   ],
   "source": [
    "print(p_value1)\n",
    "\n",
    "if p_value >= 0.5:\n",
    "    print(\"Being smoker does have a correlation to the age\")\n",
    "else:\n",
    "    print(\"Being smoker doesn't have a correlation to the age\")"
   ]
  },
  {
   "cell_type": "markdown",
   "id": "0dcb1c92",
   "metadata": {},
   "source": [
    "# IN FEMALE AND MALE WHAT SEX HAS THE MOST OBESITY?"
   ]
  },
  {
   "cell_type": "code",
   "execution_count": 42,
   "id": "a5fcd5d7",
   "metadata": {},
   "outputs": [
    {
     "data": {
      "image/png": "[encoded data removed]",
      "text/plain": [
       "<Figure size 432x288 with 1 Axes>"
      ]
     },
     "metadata": {
      "needs_background": "light"
     },
     "output_type": "display_data"
    }
   ],
   "source": [
    "s_bmi = sns.barplot(data = insurance, x = \"sex\", y = \"bmi\", palette=\"coolwarm\")\n",
    "plt.show()"
   ]
  },
  {
   "cell_type": "markdown",
   "id": "c930e822",
   "metadata": {},
   "source": [
    "# INSURANCE PAYER HAS NO KIDS/CHILDREN?"
   ]
  },
  {
   "cell_type": "code",
   "execution_count": 43,
   "id": "b97744f7",
   "metadata": {},
   "outputs": [
    {
     "name": "stdout",
     "output_type": "stream",
     "text": [
      "The total number of a insurance payer that doesnt have a kid is: 764\n"
     ]
    }
   ],
   "source": [
    "zero_chil =(insurance[\"children\"] == 0).value_counts()\n",
    "free_chil = zero_chil.max()\n",
    "print(\"The total number of a insurance payer that doesnt have a kid is:\", free_chil)"
   ]
  },
  {
   "cell_type": "markdown",
   "id": "0d88cdd7",
   "metadata": {},
   "source": [
    "# BASED ON THE INSURANCE EXCEL FILE. HOW MANY SMOKERS THEY HAVE?"
   ]
  },
  {
   "cell_type": "code",
   "execution_count": 44,
   "id": "ccb1ccff",
   "metadata": {},
   "outputs": [
    {
     "name": "stdout",
     "output_type": "stream",
     "text": [
      "The total number of smoker is: 1064\n"
     ]
    }
   ],
   "source": [
    "a_smoker = (insurance[\"smoker\"] == \"yes\").value_counts()\n",
    "y_smoke = a_smoker.max()\n",
    "print(\"The total number of smoker is:\", y_smoke)"
   ]
  },
  {
   "cell_type": "markdown",
   "id": "e1f9d665",
   "metadata": {},
   "source": [
    "# WHAT IS THE HIGHEST AND LOWEST CHARGES, WHEN IT COMES TO WHO SMOKES THE MOST?"
   ]
  },
  {
   "cell_type": "code",
   "execution_count": 46,
   "id": "b322b6ec",
   "metadata": {},
   "outputs": [
    {
     "name": "stdout",
     "output_type": "stream",
     "text": [
      "The highest charges is: age                  54\n",
      "sex              female\n",
      "bmi               47.41\n",
      "children              0\n",
      "smoker              yes\n",
      "region        southeast\n",
      "charges     63770.42801\n",
      "Name: 543, dtype: object\n",
      "While the lowest is: age                18\n",
      "sex              male\n",
      "bmi             23.21\n",
      "children            0\n",
      "smoker             no\n",
      "region      southeast\n",
      "charges     1121.8739\n",
      "Name: 940, dtype: object\n"
     ]
    }
   ],
   "source": [
    "highcharge = insurance.loc[insurance['charges'].idxmax()]\n",
    "\n",
    "lowcharge = insurance.loc[insurance['charges'].idxmin()]\n",
    "\n",
    "print(\"The highest charges is:\", highcharge)\n",
    "print(\"While the lowest is:\", lowcharge)"
   ]
  },
  {
   "cell_type": "markdown",
   "id": "d629da8a",
   "metadata": {},
   "source": [
    "# GENERAL AVERAGE OF SMOKING CIGARETES?\n"
   ]
  },
  {
   "cell_type": "code",
   "execution_count": 48,
   "id": "f72c0283",
   "metadata": {},
   "outputs": [
    {
     "name": "stdout",
     "output_type": "stream",
     "text": [
      "The general average age of a smoker is: 39.38533834586466 years old\n"
     ]
    }
   ],
   "source": [
    "avg_smoker = insurance.groupby(\"smoker\")[\"age\"].mean().reset_index()\n",
    "\n",
    "tots_smoker = avg_smoker.sort_values(by=\"age\", ascending=False).iloc[0]\n",
    "print(\"The general average age of a smoker is:\", tots_smoker[\"age\"], \"years old\")\n"
   ]
  },
  {
   "cell_type": "markdown",
   "id": "195f1406",
   "metadata": {},
   "source": [
    "# HAS THE HIGHEST AND LEAST CHARGES, WHEN IT CAME FROM? FROM WHAT REGION IT IS?"
   ]
  },
  {
   "cell_type": "code",
   "execution_count": 53,
   "id": "71e4f83e",
   "metadata": {},
   "outputs": [
    {
     "data": {
      "text/plain": [
       "<function matplotlib.pyplot.show(close=None, block=None)>"
      ]
     },
     "execution_count": 53,
     "metadata": {},
     "output_type": "execute_result"
    },
    {
     "data": {
      "image/png": "[encoded data removed]",
      "text/plain": [
       "<Figure size 432x288 with 1 Axes>"
      ]
     },
     "metadata": {
      "needs_background": "light"
     },
     "output_type": "display_data"
    },
    {
     "data": {
      "text/plain": [
       "<Figure size 1152x1584 with 0 Axes>"
      ]
     },
     "metadata": {},
     "output_type": "display_data"
    }
   ],
   "source": [
    "Rsmoker = sns.barplot(data = insurance, x = \"region\", y = \"charges\", color = \"purple\")\n",
    "plt.figure(figsize=(16,22))\n",
    "plt.show"
   ]
  },
  {
   "cell_type": "markdown",
   "id": "c2ec2a8f",
   "metadata": {},
   "source": [
    "# WHEN IT COMES TO THE REGION, WHAT HAS THE LOWEST NUMBER IS NOT REALLY INTO INSURANCE PAYER?"
   ]
  },
  {
   "cell_type": "code",
   "execution_count": 54,
   "id": "bb210281",
   "metadata": {},
   "outputs": [
    {
     "name": "stdout",
     "output_type": "stream",
     "text": [
      "The region that avail insurance the lowest is: northeast\n",
      "With the total of: 324\n"
     ]
    }
   ],
   "source": [
    "reg_dist = insurance[\"region\"].value_counts() \n",
    "a=reg_dist.idxmin()\n",
    "b=reg_dist.min()\n",
    "print(\"The region that avail insurance the lowest is:\", a)\n",
    "print(\"With the total of:\", b)"
   ]
  },
  {
   "cell_type": "markdown",
   "id": "7d32469c",
   "metadata": {},
   "source": [
    "# HOW MANY MALES ARE CHILD FREE?"
   ]
  },
  {
   "cell_type": "code",
   "execution_count": 56,
   "id": "a74bf4c3",
   "metadata": {},
   "outputs": [
    {
     "name": "stdout",
     "output_type": "stream",
     "text": [
      "Number of males without children: 285\n"
     ]
    }
   ],
   "source": [
    "tots = len(insurance[(insurance[\"sex\"] == \"male\") & (insurance[\"children\"] == 0)])\n",
    "print(\"Number of males without children:\", tots)"
   ]
  }
 ],
 "metadata": {
  "kernelspec": {
   "display_name": "Python 3 (ipykernel)",
   "language": "python",
   "name": "python3"
  },
  "language_info": {
   "codemirror_mode": {
    "name": "ipython",
    "version": 3
   },
   "file_extension": ".py",
   "mimetype": "text/x-python",
   "name": "python",
   "nbconvert_exporter": "python",
   "pygments_lexer": "ipython3",
   "version": "3.9.12"
  }
 },
 "nbformat": 4,
 "nbformat_minor": 5
}
